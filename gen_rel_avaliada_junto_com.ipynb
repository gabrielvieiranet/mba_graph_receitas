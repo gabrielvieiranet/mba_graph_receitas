{
 "cells": [
  {
   "cell_type": "code",
   "execution_count": 5,
   "metadata": {},
   "outputs": [],
   "source": [
    "import pandas as pd\n",
    "from itertools import combinations"
   ]
  },
  {
   "cell_type": "code",
   "execution_count": 6,
   "metadata": {},
   "outputs": [],
   "source": [
    "# Definindo o tamanho do chunk\n",
    "chunksize = 10000  # Ajuste este valor conforme necessário\n",
    "\n",
    "# Preparando um DataFrame para armazenar os relacionamentos Avaliada_Junto_Com\n",
    "relacionamentos = []\n",
    "\n",
    "# Lendo o dataset em chunks\n",
    "for chunk in pd.read_csv('dataset/RAW_interactions.csv', chunksize=chunksize):\n",
    "    # Agrupando as avaliações por usuário dentro do chunk\n",
    "    for usuario_id, grupo in chunk.groupby('user_id'):\n",
    "        receitas_avaliadas = set(grupo['recipe_id'])\n",
    "\n",
    "        # Criando todos os pares possíveis de receitas avaliadas pelo mesmo usuário\n",
    "        for receita1, receita2 in combinations(receitas_avaliadas, 2):\n",
    "            relacionamentos.append({'receitaId1': receita1, 'receitaId2': receita2})\n",
    "\n",
    "# Convertendo para DataFrame\n",
    "df_relacionamentos = pd.DataFrame(relacionamentos)"
   ]
  },
  {
   "cell_type": "code",
   "execution_count": 7,
   "metadata": {},
   "outputs": [
    {
     "data": {
      "text/html": [
       "<div>\n",
       "<style scoped>\n",
       "    .dataframe tbody tr th:only-of-type {\n",
       "        vertical-align: middle;\n",
       "    }\n",
       "\n",
       "    .dataframe tbody tr th {\n",
       "        vertical-align: top;\n",
       "    }\n",
       "\n",
       "    .dataframe thead th {\n",
       "        text-align: right;\n",
       "    }\n",
       "</style>\n",
       "<table border=\"1\" class=\"dataframe\">\n",
       "  <thead>\n",
       "    <tr style=\"text-align: right;\">\n",
       "      <th></th>\n",
       "      <th>receitaId1</th>\n",
       "      <th>receitaId2</th>\n",
       "    </tr>\n",
       "  </thead>\n",
       "  <tbody>\n",
       "    <tr>\n",
       "      <th>0</th>\n",
       "      <td>230720</td>\n",
       "      <td>50022</td>\n",
       "    </tr>\n",
       "    <tr>\n",
       "      <th>1</th>\n",
       "      <td>230720</td>\n",
       "      <td>47474</td>\n",
       "    </tr>\n",
       "    <tr>\n",
       "      <th>2</th>\n",
       "      <td>230720</td>\n",
       "      <td>78834</td>\n",
       "    </tr>\n",
       "    <tr>\n",
       "      <th>3</th>\n",
       "      <td>230720</td>\n",
       "      <td>349022</td>\n",
       "    </tr>\n",
       "    <tr>\n",
       "      <th>4</th>\n",
       "      <td>50022</td>\n",
       "      <td>47474</td>\n",
       "    </tr>\n",
       "  </tbody>\n",
       "</table>\n",
       "</div>"
      ],
      "text/plain": [
       "   receitaId1  receitaId2\n",
       "0      230720       50022\n",
       "1      230720       47474\n",
       "2      230720       78834\n",
       "3      230720      349022\n",
       "4       50022       47474"
      ]
     },
     "execution_count": 7,
     "metadata": {},
     "output_type": "execute_result"
    }
   ],
   "source": [
    "df_relacionamentos.head()"
   ]
  },
  {
   "cell_type": "code",
   "execution_count": 8,
   "metadata": {},
   "outputs": [
    {
     "data": {
      "text/plain": [
       "receitaId1    2492789\n",
       "receitaId2    2492789\n",
       "dtype: int64"
      ]
     },
     "execution_count": 8,
     "metadata": {},
     "output_type": "execute_result"
    }
   ],
   "source": [
    "df_relacionamentos.count()"
   ]
  },
  {
   "cell_type": "code",
   "execution_count": 7,
   "metadata": {},
   "outputs": [],
   "source": [
    "# Exportando para CSV\n",
    "df_relacionamentos.to_csv('dataset/rel_avaliada_junto_com.csv', index=False)"
   ]
  }
 ],
 "metadata": {
  "kernelspec": {
   "display_name": ".venv",
   "language": "python",
   "name": "python3"
  },
  "language_info": {
   "codemirror_mode": {
    "name": "ipython",
    "version": 3
   },
   "file_extension": ".py",
   "mimetype": "text/x-python",
   "name": "python",
   "nbconvert_exporter": "python",
   "pygments_lexer": "ipython3",
   "version": "3.8.10"
  }
 },
 "nbformat": 4,
 "nbformat_minor": 2
}
