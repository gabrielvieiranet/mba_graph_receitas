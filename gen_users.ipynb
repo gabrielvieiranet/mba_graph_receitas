{
 "cells": [
  {
   "cell_type": "code",
   "execution_count": 46,
   "metadata": {},
   "outputs": [],
   "source": [
    "import numpy as np\n",
    "import pandas as pd\n",
    "import seaborn as sns\n",
    "import sys\n",
    "import matplotlib.pyplot as plt\n",
    "import seaborn as sns\n",
    "import random\n",
    "import os\n",
    "from faker import Faker"
   ]
  },
  {
   "cell_type": "code",
   "execution_count": 47,
   "metadata": {},
   "outputs": [],
   "source": [
    "df_raw = pd.read_csv('dataset/RAW_interactions.csv')"
   ]
  },
  {
   "cell_type": "code",
   "execution_count": 48,
   "metadata": {},
   "outputs": [
    {
     "data": {
      "text/html": [
       "<div>\n",
       "<style scoped>\n",
       "    .dataframe tbody tr th:only-of-type {\n",
       "        vertical-align: middle;\n",
       "    }\n",
       "\n",
       "    .dataframe tbody tr th {\n",
       "        vertical-align: top;\n",
       "    }\n",
       "\n",
       "    .dataframe thead th {\n",
       "        text-align: right;\n",
       "    }\n",
       "</style>\n",
       "<table border=\"1\" class=\"dataframe\">\n",
       "  <thead>\n",
       "    <tr style=\"text-align: right;\">\n",
       "      <th></th>\n",
       "      <th>user_id</th>\n",
       "      <th>recipe_id</th>\n",
       "      <th>date</th>\n",
       "      <th>rating</th>\n",
       "      <th>review</th>\n",
       "    </tr>\n",
       "  </thead>\n",
       "  <tbody>\n",
       "    <tr>\n",
       "      <th>0</th>\n",
       "      <td>38094</td>\n",
       "      <td>40893</td>\n",
       "      <td>2003-02-17</td>\n",
       "      <td>4</td>\n",
       "      <td>Great with a salad. Cooked on top of stove for...</td>\n",
       "    </tr>\n",
       "    <tr>\n",
       "      <th>1</th>\n",
       "      <td>1293707</td>\n",
       "      <td>40893</td>\n",
       "      <td>2011-12-21</td>\n",
       "      <td>5</td>\n",
       "      <td>So simple, so delicious! Great for chilly fall...</td>\n",
       "    </tr>\n",
       "    <tr>\n",
       "      <th>2</th>\n",
       "      <td>8937</td>\n",
       "      <td>44394</td>\n",
       "      <td>2002-12-01</td>\n",
       "      <td>4</td>\n",
       "      <td>This worked very well and is EASY.  I used not...</td>\n",
       "    </tr>\n",
       "    <tr>\n",
       "      <th>3</th>\n",
       "      <td>126440</td>\n",
       "      <td>85009</td>\n",
       "      <td>2010-02-27</td>\n",
       "      <td>5</td>\n",
       "      <td>I made the Mexican topping and took it to bunk...</td>\n",
       "    </tr>\n",
       "    <tr>\n",
       "      <th>4</th>\n",
       "      <td>57222</td>\n",
       "      <td>85009</td>\n",
       "      <td>2011-10-01</td>\n",
       "      <td>5</td>\n",
       "      <td>Made the cheddar bacon topping, adding a sprin...</td>\n",
       "    </tr>\n",
       "  </tbody>\n",
       "</table>\n",
       "</div>"
      ],
      "text/plain": [
       "   user_id  recipe_id        date  rating  \\\n",
       "0    38094      40893  2003-02-17       4   \n",
       "1  1293707      40893  2011-12-21       5   \n",
       "2     8937      44394  2002-12-01       4   \n",
       "3   126440      85009  2010-02-27       5   \n",
       "4    57222      85009  2011-10-01       5   \n",
       "\n",
       "                                              review  \n",
       "0  Great with a salad. Cooked on top of stove for...  \n",
       "1  So simple, so delicious! Great for chilly fall...  \n",
       "2  This worked very well and is EASY.  I used not...  \n",
       "3  I made the Mexican topping and took it to bunk...  \n",
       "4  Made the cheddar bacon topping, adding a sprin...  "
      ]
     },
     "execution_count": 48,
     "metadata": {},
     "output_type": "execute_result"
    }
   ],
   "source": [
    "df_raw.head()"
   ]
  },
  {
   "cell_type": "code",
   "execution_count": 49,
   "metadata": {},
   "outputs": [],
   "source": [
    "df = df_raw[['user_id']].drop_duplicates()"
   ]
  },
  {
   "cell_type": "code",
   "execution_count": 50,
   "metadata": {},
   "outputs": [
    {
     "data": {
      "text/plain": [
       "user_id    226570\n",
       "dtype: int64"
      ]
     },
     "execution_count": 50,
     "metadata": {},
     "output_type": "execute_result"
    }
   ],
   "source": [
    "df.count()"
   ]
  },
  {
   "cell_type": "code",
   "execution_count": 51,
   "metadata": {},
   "outputs": [],
   "source": [
    "fake = Faker('pt_BR')\n",
    "def gerar_dados_aleatorios():\n",
    "    genero = fake.random_element(elements=('Masculino', 'Feminino'))\n",
    "\n",
    "    if genero == 'Masculino':\n",
    "        nome = fake.first_name_male() + ' ' + fake.last_name_male()\n",
    "    else:\n",
    "        nome = fake.first_name_female() + ' ' + fake.last_name_female()\n",
    "\n",
    "    idade = random.randint(18, 70)  # Idade entre 18 e 70 anos\n",
    "    peso = random.randint(50, 100)  # Peso como número inteiro entre 50kg e 100kg\n",
    "    altura = random.randint(150, 200)  # Altura entre 150cm e 200cm\n",
    "    return nome, idade, peso, altura, genero\n",
    "\n",
    "# Gerar e adicionar dados ao DataFrame\n",
    "dados_aleatorios = [gerar_dados_aleatorios() for _ in range(len(df))]\n",
    "df[['nome', 'idade', 'peso', 'altura', 'genero']] = pd.DataFrame(dados_aleatorios, index=df.index)\n"
   ]
  },
  {
   "cell_type": "code",
   "execution_count": 52,
   "metadata": {},
   "outputs": [
    {
     "data": {
      "text/html": [
       "<div>\n",
       "<style scoped>\n",
       "    .dataframe tbody tr th:only-of-type {\n",
       "        vertical-align: middle;\n",
       "    }\n",
       "\n",
       "    .dataframe tbody tr th {\n",
       "        vertical-align: top;\n",
       "    }\n",
       "\n",
       "    .dataframe thead th {\n",
       "        text-align: right;\n",
       "    }\n",
       "</style>\n",
       "<table border=\"1\" class=\"dataframe\">\n",
       "  <thead>\n",
       "    <tr style=\"text-align: right;\">\n",
       "      <th></th>\n",
       "      <th>user_id</th>\n",
       "      <th>nome</th>\n",
       "      <th>idade</th>\n",
       "      <th>peso</th>\n",
       "      <th>altura</th>\n",
       "      <th>genero</th>\n",
       "    </tr>\n",
       "  </thead>\n",
       "  <tbody>\n",
       "    <tr>\n",
       "      <th>0</th>\n",
       "      <td>38094</td>\n",
       "      <td>Gabrielly da Paz</td>\n",
       "      <td>62</td>\n",
       "      <td>66</td>\n",
       "      <td>184</td>\n",
       "      <td>Feminino</td>\n",
       "    </tr>\n",
       "    <tr>\n",
       "      <th>1</th>\n",
       "      <td>1293707</td>\n",
       "      <td>Luiz Gustavo das Neves</td>\n",
       "      <td>27</td>\n",
       "      <td>78</td>\n",
       "      <td>170</td>\n",
       "      <td>Masculino</td>\n",
       "    </tr>\n",
       "    <tr>\n",
       "      <th>2</th>\n",
       "      <td>8937</td>\n",
       "      <td>Sarah das Neves</td>\n",
       "      <td>27</td>\n",
       "      <td>52</td>\n",
       "      <td>172</td>\n",
       "      <td>Feminino</td>\n",
       "    </tr>\n",
       "    <tr>\n",
       "      <th>3</th>\n",
       "      <td>126440</td>\n",
       "      <td>Eduardo Gonçalves</td>\n",
       "      <td>48</td>\n",
       "      <td>61</td>\n",
       "      <td>167</td>\n",
       "      <td>Masculino</td>\n",
       "    </tr>\n",
       "    <tr>\n",
       "      <th>4</th>\n",
       "      <td>57222</td>\n",
       "      <td>Camila Aragão</td>\n",
       "      <td>45</td>\n",
       "      <td>100</td>\n",
       "      <td>160</td>\n",
       "      <td>Feminino</td>\n",
       "    </tr>\n",
       "  </tbody>\n",
       "</table>\n",
       "</div>"
      ],
      "text/plain": [
       "   user_id                    nome  idade  peso  altura     genero\n",
       "0    38094        Gabrielly da Paz     62    66     184   Feminino\n",
       "1  1293707  Luiz Gustavo das Neves     27    78     170  Masculino\n",
       "2     8937         Sarah das Neves     27    52     172   Feminino\n",
       "3   126440       Eduardo Gonçalves     48    61     167  Masculino\n",
       "4    57222           Camila Aragão     45   100     160   Feminino"
      ]
     },
     "execution_count": 52,
     "metadata": {},
     "output_type": "execute_result"
    }
   ],
   "source": [
    "df.head()"
   ]
  },
  {
   "cell_type": "code",
   "execution_count": 53,
   "metadata": {},
   "outputs": [],
   "source": [
    "diretorio = 'dataset'\n",
    "if not os.path.exists(diretorio):\n",
    "    os.makedirs(diretorio)\n",
    "\n",
    "# Exportar o DataFrame para um arquivo CSV\n",
    "caminho_do_arquivo = os.path.join(diretorio, 'RAW_users.csv')\n",
    "df.to_csv(caminho_do_arquivo, index=False)"
   ]
  }
 ],
 "metadata": {
  "kernelspec": {
   "display_name": ".venv",
   "language": "python",
   "name": "python3"
  },
  "language_info": {
   "codemirror_mode": {
    "name": "ipython",
    "version": 3
   },
   "file_extension": ".py",
   "mimetype": "text/x-python",
   "name": "python",
   "nbconvert_exporter": "python",
   "pygments_lexer": "ipython3",
   "version": "3.11.6"
  }
 },
 "nbformat": 4,
 "nbformat_minor": 2
}
